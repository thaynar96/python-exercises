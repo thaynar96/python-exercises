{
  "nbformat": 4,
  "nbformat_minor": 0,
  "metadata": {
    "colab": {
      "name": "Aula_02_Codelab_1.ipynb",
      "provenance": [],
      "collapsed_sections": [],
      "include_colab_link": true
    },
    "kernelspec": {
      "name": "python3",
      "display_name": "Python 3"
    },
    "language_info": {
      "name": "python"
    }
  },
  "cells": [
    {
      "cell_type": "markdown",
      "metadata": {
        "id": "view-in-github",
        "colab_type": "text"
      },
      "source": [
        "<a href=\"https://colab.research.google.com/github/thaynar96/python-exercises/blob/main/Aula_02_Codelab_1.ipynb\" target=\"_parent\"><img src=\"https://colab.research.google.com/assets/colab-badge.svg\" alt=\"Open In Colab\"/></a>"
      ]
    },
    {
      "cell_type": "markdown",
      "metadata": {
        "id": "n_igYcmdk6U9"
      },
      "source": [
        "# **Exercícios para treinar:**"
      ]
    },
    {
      "cell_type": "markdown",
      "metadata": {
        "id": "rRyZR6ZAlEHU"
      },
      "source": [
        "1. **Frase na tela** - Implemente um programa que escreve na tela a frase \"O primeiro programa a gente nunca esquece!\".\n",
        "\n",
        "2. **Etiqueta** - Elabore um programa que escreve seu nome completo na primeira linha, seu endereço na segunda e o CEP e telefone na terceira.\n",
        "\n",
        "3. **Letra de música** - Faça um programa que mostre na tela uma letra de música que você gosta (proibido letras do Justin Bieber).\n",
        "\n",
        "4. **Tabela de notas** - Você foi contratado ou contratada por uma escola pra fazer o sistema de boletim dos alunos. Como primeiro passo, escreva um programa que produza a seguinte saída:\n",
        "```\n",
        "ALUNO (A)  NOTA\n",
        "=========  ====\n",
        "ALINE      9.0\n",
        "MÁRIO      DEZ\n",
        "SÉRGIO     4.5\n",
        "SHIRLEY    7.0\n",
        "```\n",
        "\n",
        "5. **Menu** - Elabore um programa que mostre o seguinte menu na tela:\n",
        "```\n",
        "Cadastro de Clientes\n",
        "0 - Fim\n",
        "1 - Inclui\n",
        "2 - Altera\n",
        "3 - Exclui\n",
        "4 - Consulta\n",
        "Digite uma opção: \n",
        "```\n",
        "Ao digitar um valor para a opção, o programa exibe qual opção foi escolhida.\n",
        "```\n",
        "Você escolheu a opção '0'.\n",
        "```\n",
        "\n",
        "6. **Calculadora de Dano** - Escreva um programa que receba dois valores digitados pelo usuário:\n",
        "  - Quantidade de vida de um monstro (entre 10 e 50);\n",
        "  - Valor do ataque do jogador por turno (entre 5 e 10);\n",
        "  - Baseado nos valores digitados, exiba a quantidade de turnos que o jogador irá demorar para conseguir derrotar o monstro.\n",
        "  - ```\n",
        "    O jogador irá derrotar o monstro em 8 turnos.\n",
        "    ```"
      ]
    },
    {
      "cell_type": "code",
      "metadata": {
        "id": "rTVPADGz7-q2"
      },
      "source": [
        "print(\"O primeiro programa a gente nunca esquece!\")"
      ],
      "execution_count": null,
      "outputs": []
    },
    {
      "cell_type": "code",
      "metadata": {
        "colab": {
          "base_uri": "https://localhost:8080/"
        },
        "id": "Uzl-UBpv8Kmz",
        "outputId": "33f3921c-c98c-43b7-c3aa-50d2441b049f"
      },
      "source": [
        "nome = input(\"Digite seu nome completo: \")\n",
        "endereco = input(\"Digite seu endereço: \")\n",
        "cep =  input(\"Digite seu cep: \")\n",
        "telefone=input(\"Digite o seu número: \")\n",
        "print(f\"Nome: {nome}\\nEndereço: {endereco}\\nCEP e número: {cep}{telefone}\")"
      ],
      "execution_count": null,
      "outputs": [
        {
          "output_type": "stream",
          "text": [
            "Digite seu nome completo: Thaynar Silva Brandão de Lima\n",
            "Digite seu endereço: Rua São Joaquim 162\n",
            "Digite seu cep: 89012420\n",
            "Digite o seu número: (47)98881-7071\n",
            "Nome: Thaynar Silva Brandão de Lima\n",
            "Endereço: Rua São Joaquim 162\n",
            "CEP e número: 89012420(47)98881-7071\n"
          ],
          "name": "stdout"
        }
      ]
    },
    {
      "cell_type": "code",
      "metadata": {
        "colab": {
          "base_uri": "https://localhost:8080/"
        },
        "id": "7pX4z5j5-JJs",
        "outputId": "8f9e608c-a99c-4b53-9ffa-e955579725e6"
      },
      "source": [
        "musica = \"If you wanna run away with me, I know a galaxy And I can take you for a ride\\nI had a premonition that we fell into a rhythm\\nWhere the music don\\'t stop for life\\nGlitter in the sky, glitter in my eyes\\nShining just the way I like\\nIf you\\'re feeling like you need \\na little bit of company You met me at the perfect time\"\n",
        "print(musica)"
      ],
      "execution_count": null,
      "outputs": [
        {
          "output_type": "stream",
          "text": [
            "If you wanna run away with me, I know a galaxy And I can take you for a ride\n",
            "I had a premonition that we fell into a rhythm\n",
            "Where the music don't stop for life\n",
            "Glitter in the sky, glitter in my eyes\n",
            "Shining just the way I like\n",
            "If you're feeling like you need \n",
            "a little bit of company You met me at the perfect time\n"
          ],
          "name": "stdout"
        }
      ]
    },
    {
      "cell_type": "code",
      "metadata": {
        "colab": {
          "base_uri": "https://localhost:8080/"
        },
        "id": "bNqom5pp_e-x",
        "outputId": "61984cdf-0f86-4cee-c00f-6a3db9b9ba8e"
      },
      "source": [
        "# ALUNO (A)  NOTA\n",
        "# =========  ====\n",
        "# ALINE      9.0\n",
        "# MÁRIO      DEZ\n",
        "# SÉRGIO     4.5\n",
        "# SHIRLEY    7.0\n",
        "\n",
        "primeiro_a= input(\"Digite o nome do aluno 1: \")\n",
        "primeiro_nota=input(\"Digite a nota do aluno 1: \")\n",
        "print(\"\")\n",
        "segundo_a=input(\"Digite o nome do aluno 2: \")\n",
        "segundo_nota=input(\"Digite a nota do aluno 2: \")\n",
        "print(\"\")\n",
        "terceiro_a=input(\"Digite o nome do aluno 3: \")\n",
        "terceira_nota=input(\"Digite a nota do aluno 3: \")\n",
        "print(\"\")\n",
        "quarto_a=input(\"Digite o nome do aluno 4:\")\n",
        "quarto_nota=input(\"Digite a nota do aluno 4: \")\n",
        "\n",
        "\n",
        "print(\"\")\n",
        "print(\"ALUNO (A)  NOTA\") \n",
        "print(\"=========  ====\")\n",
        "print(f\"{primeiro_a}      {primeiro_nota}\")\n",
        "print(f\"{segundo_a}      {segundo_nota}\")\n",
        "print(f\"{terceiro_a}     {terceira_nota}\")\n",
        "print(f\"{quarto_a}    {quarto_nota}\")"
      ],
      "execution_count": null,
      "outputs": [
        {
          "output_type": "stream",
          "text": [
            "Digite o nome do aluno 1: ALINE\n",
            "Digite a nota do aluno 1: 9.0\n",
            "\n",
            "Digite o nome do aluno 2: MARIO\n",
            "Digite a nota do aluno 2: DEZ\n",
            "\n",
            "Digite o nome do aluno 3: SERGIO\n",
            "Digite a nota do aluno 3: 4.5\n",
            "\n",
            "Digite o nome do aluno 4:SHIRLEY\n",
            "Digite a nota do aluno 4: 7.0\n",
            "\n",
            "ALUNO (A)  NOTA\n",
            "=========  ====\n",
            "ALINE      9.0\n",
            "MARIO      DEZ\n",
            "SERGIO     4.5\n",
            "SHIRLEY    7.0\n"
          ],
          "name": "stdout"
        }
      ]
    },
    {
      "cell_type": "code",
      "metadata": {
        "colab": {
          "base_uri": "https://localhost:8080/"
        },
        "id": "VjtWge6I_nwK",
        "outputId": "6e22eebf-ce7c-44e5-f978-8b233d00f734"
      },
      "source": [
        "print(\"Cadastro de Clientes\")\n",
        "print(f\"0 - Fim\\n1 - Inclui\\n2 - Altera\\n3 - Exclui\\n4 - Consulta\")\n",
        "opcao=input(\"Digite uma opção: \")\n",
        "print(f\"Você escolheu a opção {opcao}\")\n"
      ],
      "execution_count": null,
      "outputs": [
        {
          "output_type": "stream",
          "text": [
            "Cadastro de Clientes\n",
            "0 - Fim\n",
            "1 - Inclui\n",
            "2 - Altera\n",
            "3 - Exclui\n",
            "4 - Consulta\n",
            "Digite uma opção: 2\n",
            "Você escolheu a opção 2\n"
          ],
          "name": "stdout"
        }
      ]
    },
    {
      "cell_type": "code",
      "metadata": {
        "colab": {
          "base_uri": "https://localhost:8080/"
        },
        "id": "M0Vbh79IRiKr",
        "outputId": "b6158e26-9a74-40c9-b57a-81281b323649"
      },
      "source": [
        "# Quantidade de vida de um monstro (entre 10 e 50);\n",
        "# Valor do ataque do jogador por turno (entre 5 e 10);\n",
        "# Baseado nos valores digitados, exiba a quantidade de turnos que o jogador irá demorar para conseguir derrotar o monstro.\n",
        "\n",
        "\n",
        "vida=int(input(\"Qual é a vida do seu monstro? Escolha entre 10 e 50\\n\"))\n",
        "ataque=int(input(\"Qual é o valor do ataque do seu jogador?Escolha entre 5 e 10 \\n\"))\n",
        "derrota = vida/ataque\n",
        "print(f\"Você irá demorar {derrota} rounds para derrotar o monstro\")"
      ],
      "execution_count": null,
      "outputs": [
        {
          "output_type": "stream",
          "text": [
            "Qual é a vida do seu monstro? Escolha entre 10 e 50\n",
            "50\n",
            "Qual é o valor do ataque do seu monstro?Escolha entre 5 e 10 \n",
            "10\n",
            "Você irá demorar 5.0 rounds para derrotar o monstro\n"
          ],
          "name": "stdout"
        }
      ]
    },
    {
      "cell_type": "markdown",
      "metadata": {
        "id": "HqgnPaCGqMPB"
      },
      "source": [
        "# Exercícios"
      ]
    },
    {
      "cell_type": "markdown",
      "metadata": {
        "id": "U-ltrv0jqPBq"
      },
      "source": [
        "## #01 - E os 10% do garçom?**\n",
        "\n",
        "- Defina uma variável para o valor de uma refeição que custou R$ 42,54;\n",
        "\n",
        "- Defina uma variável para o valor da taxa de serviço que é de 10%;\n",
        "\n",
        "- Defina uma variável que calcula o valor total da conta e exiba-o no console com essa formatação: R$ XXXX.XX."
      ]
    },
    {
      "cell_type": "code",
      "metadata": {
        "id": "jbcSv4NFkB1C",
        "colab": {
          "base_uri": "https://localhost:8080/"
        },
        "outputId": "51f27aa9-1d63-40cb-eead-55644ea96a9c"
      },
      "source": [
        "refeicao = 42.54\n",
        "taxa= 0.1*refeicao\n",
        "total = refeicao + taxa\n",
        "print(f\"O valor da conta é R${total}\")"
      ],
      "execution_count": null,
      "outputs": [
        {
          "output_type": "stream",
          "text": [
            "O valor da conta é R$46.794\n"
          ],
          "name": "stdout"
        }
      ]
    },
    {
      "cell_type": "markdown",
      "metadata": {
        "id": "JR3-KgsTqR41"
      },
      "source": [
        "## #02 - Qual o valor do troco?\n",
        "\n",
        "*   Defina uma variável para o valor de uma compra que custou R$100,98;\n",
        "\n",
        "*   Defina uma variável para o valor que o cliente pagou R$150,00;\n",
        "\n",
        "*   Defina uma variável que calcula o valor do troco e exiba-o no console com o valor final arredondado."
      ]
    },
    {
      "cell_type": "code",
      "metadata": {
        "id": "hBf3kE_pksAI",
        "colab": {
          "base_uri": "https://localhost:8080/"
        },
        "outputId": "e4954eb9-4235-4fc2-bb91-f1ad958c22a9"
      },
      "source": [
        "compra=100.98\n",
        "pago=150.00\n",
        "troco= int(pago - compra)\n",
        "print(f\"O seu troco é R${troco}\")"
      ],
      "execution_count": null,
      "outputs": [
        {
          "output_type": "stream",
          "text": [
            "O seu troco é R$49\n"
          ],
          "name": "stdout"
        }
      ]
    },
    {
      "cell_type": "markdown",
      "metadata": {
        "id": "2Uu84Uqtkunt"
      },
      "source": [
        "## #03 - Você está na flor da idade?\n",
        "\n",
        "*  Defina uma variável para o valor do ano do nascimento;\n",
        "*  Defina uma variável para o valor do ano atual;\n",
        "*  Defina uma variável que calcula o valor final da idade da pessoa;\n",
        "*  Exiba uma mensagem final dizendo a idade da pessoa e a mensagem \"Você está na flor da idade\"."
      ]
    },
    {
      "cell_type": "code",
      "metadata": {
        "id": "kyXxJV3nk14Z",
        "colab": {
          "base_uri": "https://localhost:8080/"
        },
        "outputId": "8bb8ba44-f1a3-4a2c-b09d-1d794fa2dc86"
      },
      "source": [
        "ano_nasc = 1996\n",
        "ano_atual=2021\n",
        "idade= ano_atual - ano_nasc \n",
        "print(f\"Você tem {idade} anos. Você está na flor da idade\")"
      ],
      "execution_count": null,
      "outputs": [
        {
          "output_type": "stream",
          "text": [
            "Você tem 25 anos. Você está na flor da idade\n"
          ],
          "name": "stdout"
        }
      ]
    },
    {
      "cell_type": "markdown",
      "metadata": {
        "id": "w1T7s2q0p-pt"
      },
      "source": [
        "# Mini projetos"
      ]
    },
    {
      "cell_type": "markdown",
      "metadata": {
        "id": "meUw7PTwqC-Y"
      },
      "source": [
        "## #01 - Conversor de moedas\n",
        "\n",
        "Crie um programa que solicite um um valor em real ao usuário e converta esse valor, para:\n",
        "\n",
        "- DOLAR,\n",
        "- EURO,\n",
        "- LIBRA ESTERLINA,\n",
        "- DÓLAR CANADENSE,\n",
        "- PESO ARGENTINO,\n",
        "- PESO CHILENO.\n",
        "\n",
        "Para esse exercício você precisará realizar uma pesquisa para saber a cotação de cada moeda em real. Mostrar o resultado no formato $ XXXX.XX"
      ]
    },
    {
      "cell_type": "code",
      "metadata": {
        "id": "q481snSClrXe",
        "colab": {
          "base_uri": "https://localhost:8080/"
        },
        "outputId": "ff412ad8-cef8-4f2d-86a2-73d6a562454a"
      },
      "source": [
        "valor_real= int(input(\"Digite o valor em real R$: \"))\n",
        "dolar_a = valor_real / 5.04\n",
        "euro = valor_real / 6.13\n",
        "libra = valor_real / 7.13\n",
        "dolar_ca = valor_real / 4.16\n",
        "peso_chi = valor_real / 0.0070\n",
        "peso_arg = valor_real / 0.053 \n",
        "print(f\"O valor em dolar é ${dolar_a:.2f}\\nO valor em euro é €{euro:.2f}\\nO valor em libra é £{libra:.2f}\\nO valor em dolar canadense é ${dolar_ca:.2f}\\nO valor em pesos chilenos é ${peso_chi:.2f}\\nO valor em pesos argentinos é ${peso_arg:.2f}\")"
      ],
      "execution_count": 5,
      "outputs": [
        {
          "output_type": "stream",
          "text": [
            "Digite o valor em real R$: 1000\n",
            "O valor em dolar é $198.41\n",
            "O valor em euro é €163.13\n",
            "O valor em libra é £140.25\n",
            "O valor em dolar canadense é $240.38\n",
            "O valor em pesos chilenos é $142857.14\n",
            "O valor em pesos argentinos é $18867.92\n"
          ],
          "name": "stdout"
        }
      ]
    },
    {
      "cell_type": "markdown",
      "metadata": {
        "id": "KK9PIcJ4qIF9"
      },
      "source": [
        "## #02 - Calculadora de aumento de aluguel\n",
        "\n",
        "Vamos construir um programa que irá calcular o aumento anual do seu aluguel em duas partes:\n",
        "\n",
        "### Parte 1\n",
        "A sua calculadora vai receber o `valor do aluguel` e calcular o aumento baseado no `IGPM de 31%`. A calculadora deve apresentar o aluguel reajustado no formato `R$ XXXX.XX`\n",
        "\n",
        "**Exemplo:**\n",
        "```\n",
        "Valor do aluguel = 1000\n",
        "Valor do aluguel reajustado = R$ 1310,00"
      ]
    },
    {
      "cell_type": "code",
      "metadata": {
        "id": "VdjHa9Csl0Lg",
        "colab": {
          "base_uri": "https://localhost:8080/"
        },
        "outputId": "c0acd971-bec4-4232-ebb7-d3f613c07bea"
      },
      "source": [
        "valor_alug= float(input(\"Digite o valor do aluguel em reais: R$ \"))\n",
        "reajuste = valor_alug * 1.31\n",
        "print(f\"Esse é o seu valor reajustado R${reajuste}\")\n"
      ],
      "execution_count": null,
      "outputs": [
        {
          "output_type": "stream",
          "text": [
            "Digite o valor do aluguel em reais: R$ 1000\n",
            "Esse é o seu valor reajustado R$1310.0\n"
          ],
          "name": "stdout"
        }
      ]
    },
    {
      "cell_type": "markdown",
      "metadata": {
        "id": "lKTwnuNMl8rP"
      },
      "source": [
        "### Parte 2\n",
        "Agora, altere sua calculadora para receber além do `valor do aluguel`, o percentual do reajuste no formato `XX%`.  \n",
        "\n",
        "**Dica:** Descubra uma forma de transformar o percentual recebido em um número para efetuar o cálculo.\n",
        "\n",
        "**Exemplo:**\n",
        "```\n",
        "Valor do aluguel = 1000\n",
        "Percentual do reajuste = 31%\n",
        "Valor do aluguel reajustado = R% 1310,00\n",
        "```"
      ]
    },
    {
      "cell_type": "code",
      "metadata": {
        "id": "aw2Zk_9KmA85",
        "colab": {
          "base_uri": "https://localhost:8080/"
        },
        "outputId": "eaca056d-dadc-4ca4-a476-24e2fb681efc"
      },
      "source": [
        "valor_alug= float(input(\"Digite o valor do aluguel em reais: R$\"))\n",
        "valor_reaj= float(input(\"Digite o % do reajuste: %\"))/100\n",
        "reajuste = valor_alug * (1+valor_reaj)\n",
        "print(f\"Esse é o seu valor reajustado R${reajuste}\")\n"
      ],
      "execution_count": null,
      "outputs": [
        {
          "output_type": "stream",
          "text": [
            "Digite o valor do aluguel em reais: R$1000\n",
            "Digite o % do reajuste: %50\n",
            "Esse é o seu valor reajustado R$1500.0\n"
          ],
          "name": "stdout"
        }
      ]
    }
  ]
}